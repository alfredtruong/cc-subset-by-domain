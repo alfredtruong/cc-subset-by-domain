{
 "cells": [
  {
   "cell_type": "code",
   "execution_count": 14,
   "metadata": {},
   "outputs": [],
   "source": [
    "from src.get_records import get_records_gen\n",
    "from src.get_html import extract_html"
   ]
  },
  {
   "cell_type": "markdown",
   "metadata": {},
   "source": [
    "### Downloading Records:\n",
    "\n",
    "This is how you can download raw, unzipped Common Crawl records:"
   ]
  },
  {
   "cell_type": "code",
   "execution_count": 26,
   "metadata": {
    "scrolled": false
   },
   "outputs": [
    {
     "name": "stdout",
     "output_type": "stream",
     "text": [
      "<class 'generator'>\n",
      "\n",
      "\n",
      "<class 'str'>\n",
      "\n",
      "\n",
      "WARC/1.0\n",
      "WARC-Type: response\n",
      "WARC-Date: 2018-03-24T02:17:13Z\n",
      "WARC-Record-ID: <urn:uuid:ebd76fba-1c79-4328-822a-025e341abfad>\n",
      "Content-Length: 130123\n",
      "Content-Type: application/http; msgtype=response\n",
      "WARC-Warcinfo-ID: <urn:uuid:e5ac985d-d98c-40d7-b4b8-aaacf4e1eddc>\n",
      "WARC-Concurrent-To: <urn:uuid:60d7410b-17a3-4675-9a04-58fd64827c1e>\n",
      "WARC-IP-Address: 151.101.33.164\n",
      "WARC-Target-URI: https://www.nytimes.com/section/politics\n",
      "WARC-Payload-Digest: sha1:G2WSKDPN2RAIKHOEW6JHUMEW4XUJ2QWL\n",
      "WARC-Bloc\n",
      "\n",
      "\n",
      "ad inv1-ad hidden\"></div>\n",
      "<div id=\"Inv2\" class=\"ad inv2-ad hidden\"></div>\n",
      "<div id=\"Inv3\" class=\"ad inv3-ad hidden\"></div>\n",
      "<div id=\"ab1\" class=\"ad ab1-ad hidden\"></div>\n",
      "<div id=\"ab2\" class=\"ad ab2-ad hidden\"></div>\n",
      "<div id=\"ab3\" class=\"ad ab3-ad hidden\"></div>\n",
      "<div id=\"prop1\" class=\"ad prop1-ad hidden\"></div>\n",
      "<div id=\"prop2\" class=\"ad prop2-ad hidden\"></div>\n",
      "<div id=\"Anchor\" class=\"ad anchor-ad hidden\"></div>\n",
      "<div id=\"ADX_CLIENTSIDE\" class=\"ad adx-clientside-ad hidden\"></div>\n",
      "</body>\n",
      "</html>\n",
      "\n",
      "\n",
      "\n",
      "\n",
      "\n"
     ]
    }
   ],
   "source": [
    "records = get_records_gen(domain = 'https://www.nytimes.com/section/politics',index_list = ['2018-13','2018-09'])\n",
    "\n",
    "# records is a generator\n",
    "print(type(records),end='\\n\\n\\n')\n",
    "\n",
    "# that contains strings\n",
    "x = next(records)\n",
    "print(type(x),end='\\n\\n\\n')\n",
    "\n",
    "# at the start of the string you get the WARC metadata\n",
    "print(x[:500],end='\\n\\n\\n')\n",
    "\n",
    "# at the end of the string you get your html\n",
    "print(x[-500:],end='\\n\\n\\n')"
   ]
  },
  {
   "cell_type": "markdown",
   "metadata": {},
   "source": [
    "### The 'Entries' that index the CC dataset look like this:"
   ]
  },
  {
   "cell_type": "code",
   "execution_count": 28,
   "metadata": {},
   "outputs": [
    {
     "name": "stdout",
     "output_type": "stream",
     "text": [
      "<class 'dict'>\n",
      "{'urlkey': 'com,nytimes)/section/politics', 'timestamp': '20180324021713', 'digest': 'G2WSKDPN2RAIKHOEW6JHUMEW4XUJ2QWL', 'length': '22697', 'mime': 'text/html', 'offset': '870517920', 'status': '200', 'mime-detected': 'text/html', 'url': 'https://www.nytimes.com/section/politics', 'filename': 'crawl-data/CC-MAIN-2018-13/segments/1521257649627.3/warc/CC-MAIN-20180324015136-20180324035136-00627.warc.gz'}\n"
     ]
    }
   ],
   "source": [
    "from src.get_records import get_entries_gen\n",
    "\n",
    "entries = get_entries_gen(domain = 'https://www.nytimes.com/section/politics',index_list = ['2018-13','2018-09'])\n",
    "\n",
    "y = next(entries)\n",
    "print(type(y))\n",
    "print(y)"
   ]
  }
 ],
 "metadata": {
  "kernelspec": {
   "display_name": "Python 3",
   "language": "python",
   "name": "python3"
  },
  "language_info": {
   "codemirror_mode": {
    "name": "ipython",
    "version": 3
   },
   "file_extension": ".py",
   "mimetype": "text/x-python",
   "name": "python",
   "nbconvert_exporter": "python",
   "pygments_lexer": "ipython3",
   "version": "3.6.1"
  }
 },
 "nbformat": 4,
 "nbformat_minor": 2
}
